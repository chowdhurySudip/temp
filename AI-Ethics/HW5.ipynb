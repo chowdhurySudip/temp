{
 "cells": [
  {
   "cell_type": "code",
   "execution_count": 118,
   "id": "ec19dd9b",
   "metadata": {},
   "outputs": [],
   "source": [
    "import random\n",
    "import pandas as pd\n",
    "import matplotlib.pyplot as plt\n",
    "from tqdm.notebook import tqdm"
   ]
  },
  {
   "cell_type": "code",
   "execution_count": 104,
   "id": "fa55186a",
   "metadata": {},
   "outputs": [],
   "source": [
    "data = pd.read_csv(\"taiwan_data.csv\")"
   ]
  },
  {
   "cell_type": "code",
   "execution_count": 105,
   "id": "6d65ff48",
   "metadata": {},
   "outputs": [],
   "source": [
    "data.iloc[:, 5:-1] = data.iloc[:, 5:-1].applymap(lambda x: 0 if x < 0 else x)"
   ]
  },
  {
   "cell_type": "code",
   "execution_count": 106,
   "id": "e4e5464c",
   "metadata": {},
   "outputs": [],
   "source": [
    "data[\"R\"] = data.iloc[:, 5:-1].sum(axis=1)/36"
   ]
  },
  {
   "cell_type": "code",
   "execution_count": 107,
   "id": "02a76a9b",
   "metadata": {},
   "outputs": [],
   "source": [
    "credit = []\n",
    "for i, S in data.iterrows():\n",
    "    c = int((1-S[\"R\"])*100)\n",
    "    if S[\"Y\"] == 0 and c < 50:\n",
    "        c = random.randint(50, 100)\n",
    "    elif S[\"Y\"] == 1 and c > 50:\n",
    "        c = random.randint(0, 40)\n",
    "    credit.append(c)"
   ]
  },
  {
   "cell_type": "code",
   "execution_count": 108,
   "id": "edb47244",
   "metadata": {},
   "outputs": [],
   "source": [
    "data[\"Credit\"] = credit"
   ]
  },
  {
   "cell_type": "code",
   "execution_count": 109,
   "id": "8afb6dd6",
   "metadata": {},
   "outputs": [],
   "source": [
    "protected = \"AGE\""
   ]
  },
  {
   "cell_type": "code",
   "execution_count": 110,
   "id": "c907b8e2",
   "metadata": {},
   "outputs": [],
   "source": [
    "data[\"Protected\"] = data[protected].apply(lambda x: 1 if x<40 else 0)"
   ]
  },
  {
   "cell_type": "code",
   "execution_count": 162,
   "id": "eee5d6d2",
   "metadata": {},
   "outputs": [],
   "source": [
    "data[\"Y_Actual\"] = data[\"Y\"].apply(lambda x: 0 if x else 1)"
   ]
  },
  {
   "cell_type": "code",
   "execution_count": 163,
   "id": "83144740",
   "metadata": {},
   "outputs": [
    {
     "data": {
      "text/html": [
       "<div>\n",
       "<style scoped>\n",
       "    .dataframe tbody tr th:only-of-type {\n",
       "        vertical-align: middle;\n",
       "    }\n",
       "\n",
       "    .dataframe tbody tr th {\n",
       "        vertical-align: top;\n",
       "    }\n",
       "\n",
       "    .dataframe thead th {\n",
       "        text-align: right;\n",
       "    }\n",
       "</style>\n",
       "<table border=\"1\" class=\"dataframe\">\n",
       "  <thead>\n",
       "    <tr style=\"text-align: right;\">\n",
       "      <th></th>\n",
       "      <th>LIMIT_BAL</th>\n",
       "      <th>SEX</th>\n",
       "      <th>EDUCATION</th>\n",
       "      <th>MARRIAGE</th>\n",
       "      <th>AGE</th>\n",
       "      <th>PAY_0</th>\n",
       "      <th>PAY_2</th>\n",
       "      <th>PAY_3</th>\n",
       "      <th>PAY_4</th>\n",
       "      <th>PAY_5</th>\n",
       "      <th>PAY_6</th>\n",
       "      <th>Y</th>\n",
       "      <th>R</th>\n",
       "      <th>Credit</th>\n",
       "      <th>Protected</th>\n",
       "      <th>Y_Actual</th>\n",
       "    </tr>\n",
       "  </thead>\n",
       "  <tbody>\n",
       "    <tr>\n",
       "      <th>0</th>\n",
       "      <td>20000</td>\n",
       "      <td>2</td>\n",
       "      <td>2</td>\n",
       "      <td>1</td>\n",
       "      <td>24</td>\n",
       "      <td>2</td>\n",
       "      <td>2</td>\n",
       "      <td>0</td>\n",
       "      <td>0</td>\n",
       "      <td>0</td>\n",
       "      <td>0</td>\n",
       "      <td>1</td>\n",
       "      <td>0.111111</td>\n",
       "      <td>27</td>\n",
       "      <td>1</td>\n",
       "      <td>0</td>\n",
       "    </tr>\n",
       "    <tr>\n",
       "      <th>1</th>\n",
       "      <td>120000</td>\n",
       "      <td>2</td>\n",
       "      <td>2</td>\n",
       "      <td>2</td>\n",
       "      <td>26</td>\n",
       "      <td>0</td>\n",
       "      <td>2</td>\n",
       "      <td>0</td>\n",
       "      <td>0</td>\n",
       "      <td>0</td>\n",
       "      <td>2</td>\n",
       "      <td>1</td>\n",
       "      <td>0.111111</td>\n",
       "      <td>22</td>\n",
       "      <td>1</td>\n",
       "      <td>0</td>\n",
       "    </tr>\n",
       "    <tr>\n",
       "      <th>2</th>\n",
       "      <td>90000</td>\n",
       "      <td>2</td>\n",
       "      <td>2</td>\n",
       "      <td>2</td>\n",
       "      <td>34</td>\n",
       "      <td>0</td>\n",
       "      <td>0</td>\n",
       "      <td>0</td>\n",
       "      <td>0</td>\n",
       "      <td>0</td>\n",
       "      <td>0</td>\n",
       "      <td>0</td>\n",
       "      <td>0.000000</td>\n",
       "      <td>100</td>\n",
       "      <td>1</td>\n",
       "      <td>1</td>\n",
       "    </tr>\n",
       "    <tr>\n",
       "      <th>3</th>\n",
       "      <td>50000</td>\n",
       "      <td>2</td>\n",
       "      <td>2</td>\n",
       "      <td>1</td>\n",
       "      <td>37</td>\n",
       "      <td>0</td>\n",
       "      <td>0</td>\n",
       "      <td>0</td>\n",
       "      <td>0</td>\n",
       "      <td>0</td>\n",
       "      <td>0</td>\n",
       "      <td>0</td>\n",
       "      <td>0.000000</td>\n",
       "      <td>100</td>\n",
       "      <td>1</td>\n",
       "      <td>1</td>\n",
       "    </tr>\n",
       "    <tr>\n",
       "      <th>4</th>\n",
       "      <td>50000</td>\n",
       "      <td>1</td>\n",
       "      <td>2</td>\n",
       "      <td>1</td>\n",
       "      <td>57</td>\n",
       "      <td>0</td>\n",
       "      <td>0</td>\n",
       "      <td>0</td>\n",
       "      <td>0</td>\n",
       "      <td>0</td>\n",
       "      <td>0</td>\n",
       "      <td>0</td>\n",
       "      <td>0.000000</td>\n",
       "      <td>100</td>\n",
       "      <td>0</td>\n",
       "      <td>1</td>\n",
       "    </tr>\n",
       "    <tr>\n",
       "      <th>...</th>\n",
       "      <td>...</td>\n",
       "      <td>...</td>\n",
       "      <td>...</td>\n",
       "      <td>...</td>\n",
       "      <td>...</td>\n",
       "      <td>...</td>\n",
       "      <td>...</td>\n",
       "      <td>...</td>\n",
       "      <td>...</td>\n",
       "      <td>...</td>\n",
       "      <td>...</td>\n",
       "      <td>...</td>\n",
       "      <td>...</td>\n",
       "      <td>...</td>\n",
       "      <td>...</td>\n",
       "      <td>...</td>\n",
       "    </tr>\n",
       "    <tr>\n",
       "      <th>29995</th>\n",
       "      <td>220000</td>\n",
       "      <td>1</td>\n",
       "      <td>3</td>\n",
       "      <td>1</td>\n",
       "      <td>39</td>\n",
       "      <td>0</td>\n",
       "      <td>0</td>\n",
       "      <td>0</td>\n",
       "      <td>0</td>\n",
       "      <td>0</td>\n",
       "      <td>0</td>\n",
       "      <td>0</td>\n",
       "      <td>0.000000</td>\n",
       "      <td>100</td>\n",
       "      <td>1</td>\n",
       "      <td>1</td>\n",
       "    </tr>\n",
       "    <tr>\n",
       "      <th>29996</th>\n",
       "      <td>150000</td>\n",
       "      <td>1</td>\n",
       "      <td>3</td>\n",
       "      <td>2</td>\n",
       "      <td>43</td>\n",
       "      <td>0</td>\n",
       "      <td>0</td>\n",
       "      <td>0</td>\n",
       "      <td>0</td>\n",
       "      <td>0</td>\n",
       "      <td>0</td>\n",
       "      <td>0</td>\n",
       "      <td>0.000000</td>\n",
       "      <td>100</td>\n",
       "      <td>0</td>\n",
       "      <td>1</td>\n",
       "    </tr>\n",
       "    <tr>\n",
       "      <th>29997</th>\n",
       "      <td>30000</td>\n",
       "      <td>1</td>\n",
       "      <td>2</td>\n",
       "      <td>2</td>\n",
       "      <td>37</td>\n",
       "      <td>4</td>\n",
       "      <td>3</td>\n",
       "      <td>2</td>\n",
       "      <td>0</td>\n",
       "      <td>0</td>\n",
       "      <td>0</td>\n",
       "      <td>1</td>\n",
       "      <td>0.250000</td>\n",
       "      <td>14</td>\n",
       "      <td>1</td>\n",
       "      <td>0</td>\n",
       "    </tr>\n",
       "    <tr>\n",
       "      <th>29998</th>\n",
       "      <td>80000</td>\n",
       "      <td>1</td>\n",
       "      <td>3</td>\n",
       "      <td>1</td>\n",
       "      <td>41</td>\n",
       "      <td>1</td>\n",
       "      <td>0</td>\n",
       "      <td>0</td>\n",
       "      <td>0</td>\n",
       "      <td>0</td>\n",
       "      <td>0</td>\n",
       "      <td>1</td>\n",
       "      <td>0.027778</td>\n",
       "      <td>30</td>\n",
       "      <td>0</td>\n",
       "      <td>0</td>\n",
       "    </tr>\n",
       "    <tr>\n",
       "      <th>29999</th>\n",
       "      <td>50000</td>\n",
       "      <td>1</td>\n",
       "      <td>2</td>\n",
       "      <td>1</td>\n",
       "      <td>46</td>\n",
       "      <td>0</td>\n",
       "      <td>0</td>\n",
       "      <td>0</td>\n",
       "      <td>0</td>\n",
       "      <td>0</td>\n",
       "      <td>0</td>\n",
       "      <td>1</td>\n",
       "      <td>0.000000</td>\n",
       "      <td>21</td>\n",
       "      <td>0</td>\n",
       "      <td>0</td>\n",
       "    </tr>\n",
       "  </tbody>\n",
       "</table>\n",
       "<p>30000 rows × 16 columns</p>\n",
       "</div>"
      ],
      "text/plain": [
       "       LIMIT_BAL  SEX  EDUCATION  MARRIAGE  AGE  PAY_0  PAY_2  PAY_3  PAY_4  \\\n",
       "0          20000    2          2         1   24      2      2      0      0   \n",
       "1         120000    2          2         2   26      0      2      0      0   \n",
       "2          90000    2          2         2   34      0      0      0      0   \n",
       "3          50000    2          2         1   37      0      0      0      0   \n",
       "4          50000    1          2         1   57      0      0      0      0   \n",
       "...          ...  ...        ...       ...  ...    ...    ...    ...    ...   \n",
       "29995     220000    1          3         1   39      0      0      0      0   \n",
       "29996     150000    1          3         2   43      0      0      0      0   \n",
       "29997      30000    1          2         2   37      4      3      2      0   \n",
       "29998      80000    1          3         1   41      1      0      0      0   \n",
       "29999      50000    1          2         1   46      0      0      0      0   \n",
       "\n",
       "       PAY_5  PAY_6  Y         R  Credit  Protected  Y_Actual  \n",
       "0          0      0  1  0.111111      27          1         0  \n",
       "1          0      2  1  0.111111      22          1         0  \n",
       "2          0      0  0  0.000000     100          1         1  \n",
       "3          0      0  0  0.000000     100          1         1  \n",
       "4          0      0  0  0.000000     100          0         1  \n",
       "...      ...    ... ..       ...     ...        ...       ...  \n",
       "29995      0      0  0  0.000000     100          1         1  \n",
       "29996      0      0  0  0.000000     100          0         1  \n",
       "29997      0      0  1  0.250000      14          1         0  \n",
       "29998      0      0  1  0.027778      30          0         0  \n",
       "29999      0      0  1  0.000000      21          0         0  \n",
       "\n",
       "[30000 rows x 16 columns]"
      ]
     },
     "execution_count": 163,
     "metadata": {},
     "output_type": "execute_result"
    }
   ],
   "source": [
    "data"
   ]
  },
  {
   "cell_type": "code",
   "execution_count": 112,
   "id": "70dd2b29",
   "metadata": {},
   "outputs": [],
   "source": [
    "indices = list(range(30000))\n",
    "random.shuffle(indices)\n",
    "train_idx = indices[:15000]\n",
    "test_idx = indices[15000:]"
   ]
  },
  {
   "cell_type": "code",
   "execution_count": 113,
   "id": "e16062e8",
   "metadata": {},
   "outputs": [],
   "source": [
    "train_data = data.iloc[train_idx]\n",
    "test_data = data.iloc[test_idx]"
   ]
  },
  {
   "cell_type": "code",
   "execution_count": 114,
   "id": "54b11260",
   "metadata": {},
   "outputs": [
    {
     "name": "stdout",
     "output_type": "stream",
     "text": [
      "Train Data: Younger-10453, Older-4547\n"
     ]
    }
   ],
   "source": [
    "y, o = train_data.Protected.sum(), 15000-train_data.Protected.sum()\n",
    "print(f\"Train Data: Younger-{y}, Older-{o}\")"
   ]
  },
  {
   "cell_type": "code",
   "execution_count": 115,
   "id": "b05e028c",
   "metadata": {},
   "outputs": [
    {
     "name": "stdout",
     "output_type": "stream",
     "text": [
      "Test Data: Younger-10403, Older-4597\n"
     ]
    }
   ],
   "source": [
    "y, o = test_data.Protected.sum(), 15000-test_data.Protected.sum()\n",
    "print(f\"Test Data: Younger-{y}, Older-{o}\")"
   ]
  },
  {
   "cell_type": "code",
   "execution_count": 116,
   "id": "acf0b980",
   "metadata": {},
   "outputs": [
    {
     "data": {
      "image/png": "[encoded data removed]",
      "text/plain": [
       "<Figure size 432x288 with 1 Axes>"
      ]
     },
     "metadata": {
      "needs_background": "light"
     },
     "output_type": "display_data"
    }
   ],
   "source": [
    "data[\"Credit\"].plot(kind=\"hist\")\n",
    "plt.ylabel(\"Number of Customers\")\n",
    "plt.xlabel(\"Creditworthiness\")\n",
    "plt.show()"
   ]
  },
  {
   "cell_type": "code",
   "execution_count": 119,
   "id": "f9c61501",
   "metadata": {},
   "outputs": [
    {
     "data": {
      "application/vnd.jupyter.widget-view+json": {
       "model_id": "8f19a27345c042b0ae3a31df866a461e",
       "version_major": 2,
       "version_minor": 0
      },
      "text/plain": [
       "  0%|          | 0/101 [00:00<?, ?it/s]"
      ]
     },
     "metadata": {},
     "output_type": "display_data"
    }
   ],
   "source": [
    "thresh_profit = []\n",
    "for thresh in tqdm(range(0, 101)):\n",
    "    profit = 0\n",
    "    for i, S in train_data.iterrows():\n",
    "        if S[\"Y\"]==0 and S[\"Credit\"]>thresh:\n",
    "            profit += 10\n",
    "        if S[\"Y\"]==0 and S[\"Credit\"]<=thresh:\n",
    "            profit -= 5\n",
    "        if S[\"Y\"]==1 and S[\"Credit\"]>thresh:\n",
    "            profit -= 3\n",
    "        if S[\"Y\"]==1 and S[\"Credit\"]<=thresh:\n",
    "            profit += 0\n",
    "    thresh_profit.append(profit)"
   ]
  },
  {
   "cell_type": "code",
   "execution_count": 186,
   "id": "da4167cb",
   "metadata": {
    "scrolled": true
   },
   "outputs": [
    {
     "data": {
      "text/plain": [
       "114042"
      ]
     },
     "execution_count": 186,
     "metadata": {},
     "output_type": "execute_result"
    }
   ],
   "source": [
    "thresh_profit[30]"
   ]
  },
  {
   "cell_type": "code",
   "execution_count": 183,
   "id": "494c00f9",
   "metadata": {
    "scrolled": true
   },
   "outputs": [
    {
     "data": {
      "image/png": "[encoded data removed]",
      "text/plain": [
       "<Figure size 432x288 with 1 Axes>"
      ]
     },
     "metadata": {
      "needs_background": "light"
     },
     "output_type": "display_data"
    }
   ],
   "source": [
    "data[\"Credit\"].plot(kind=\"hist\")\n",
    "plt.ylabel(\"Number of Customers\")\n",
    "plt.xlabel(\"Creditworthiness\")\n",
    "plt.axvline(x=48,color='red', label=\"Threshold=48\")\n",
    "plt.legend()\n",
    "plt.show()"
   ]
  },
  {
   "cell_type": "code",
   "execution_count": 139,
   "id": "d9913326",
   "metadata": {},
   "outputs": [
    {
     "data": {
      "text/plain": [
       "(10453, 8196)"
      ]
     },
     "execution_count": 139,
     "metadata": {},
     "output_type": "execute_result"
    }
   ],
   "source": [
    "train_data[(train_data.Protected == 1)].shape[0], train_data[(train_data.Protected == 1) & (train_data.Credit > 48)].shape[0]"
   ]
  },
  {
   "cell_type": "code",
   "execution_count": 138,
   "id": "99214b82",
   "metadata": {},
   "outputs": [
    {
     "data": {
      "text/plain": [
       "(10453, 2257)"
      ]
     },
     "execution_count": 138,
     "metadata": {},
     "output_type": "execute_result"
    }
   ],
   "source": [
    "train_data[(train_data.Protected == 1)].shape[0], train_data[(train_data.Protected == 1) & (train_data.Credit <= 48)].shape[0]"
   ]
  },
  {
   "cell_type": "code",
   "execution_count": 137,
   "id": "c6373304",
   "metadata": {},
   "outputs": [
    {
     "data": {
      "text/plain": [
       "(4547, 3467)"
      ]
     },
     "execution_count": 137,
     "metadata": {},
     "output_type": "execute_result"
    }
   ],
   "source": [
    "train_data[(train_data.Protected == 0)].shape[0], train_data[(train_data.Protected == 0) & (train_data.Credit > 48)].shape[0]"
   ]
  },
  {
   "cell_type": "code",
   "execution_count": 136,
   "id": "4beefa74",
   "metadata": {},
   "outputs": [
    {
     "data": {
      "text/plain": [
       "(4547, 1080)"
      ]
     },
     "execution_count": 136,
     "metadata": {},
     "output_type": "execute_result"
    }
   ],
   "source": [
    "train_data[(train_data.Protected == 0)].shape[0], train_data[(train_data.Protected == 0) & (train_data.Credit <= 48)].shape[0]"
   ]
  },
  {
   "cell_type": "code",
   "execution_count": null,
   "id": "f9cbad0d",
   "metadata": {},
   "outputs": [],
   "source": []
  },
  {
   "cell_type": "code",
   "execution_count": 140,
   "id": "8110d998",
   "metadata": {},
   "outputs": [
    {
     "name": "stderr",
     "output_type": "stream",
     "text": [
      "C:\\Users\\sudip\\AppData\\Local\\Temp/ipykernel_19104/120203980.py:1: SettingWithCopyWarning: \n",
      "A value is trying to be set on a copy of a slice from a DataFrame.\n",
      "Try using .loc[row_indexer,col_indexer] = value instead\n",
      "\n",
      "See the caveats in the documentation: https://pandas.pydata.org/pandas-docs/stable/user_guide/indexing.html#returning-a-view-versus-a-copy\n",
      "  train_data[\"Y1\"] = train_data.Credit.apply(lambda x: 0 if x<=48 else 1)\n"
     ]
    }
   ],
   "source": [
    "train_data[\"Y1\"] = train_data.Credit.apply(lambda x: 0 if x<=48 else 1)"
   ]
  },
  {
   "cell_type": "code",
   "execution_count": 141,
   "id": "71f87e02",
   "metadata": {},
   "outputs": [
    {
     "data": {
      "text/html": [
       "<div>\n",
       "<style scoped>\n",
       "    .dataframe tbody tr th:only-of-type {\n",
       "        vertical-align: middle;\n",
       "    }\n",
       "\n",
       "    .dataframe tbody tr th {\n",
       "        vertical-align: top;\n",
       "    }\n",
       "\n",
       "    .dataframe thead th {\n",
       "        text-align: right;\n",
       "    }\n",
       "</style>\n",
       "<table border=\"1\" class=\"dataframe\">\n",
       "  <thead>\n",
       "    <tr style=\"text-align: right;\">\n",
       "      <th></th>\n",
       "      <th>LIMIT_BAL</th>\n",
       "      <th>SEX</th>\n",
       "      <th>EDUCATION</th>\n",
       "      <th>MARRIAGE</th>\n",
       "      <th>AGE</th>\n",
       "      <th>PAY_0</th>\n",
       "      <th>PAY_2</th>\n",
       "      <th>PAY_3</th>\n",
       "      <th>PAY_4</th>\n",
       "      <th>PAY_5</th>\n",
       "      <th>PAY_6</th>\n",
       "      <th>Y</th>\n",
       "      <th>R</th>\n",
       "      <th>Credit</th>\n",
       "      <th>Protected</th>\n",
       "      <th>Y1</th>\n",
       "    </tr>\n",
       "  </thead>\n",
       "  <tbody>\n",
       "    <tr>\n",
       "      <th>23559</th>\n",
       "      <td>210000</td>\n",
       "      <td>2</td>\n",
       "      <td>2</td>\n",
       "      <td>2</td>\n",
       "      <td>34</td>\n",
       "      <td>0</td>\n",
       "      <td>0</td>\n",
       "      <td>0</td>\n",
       "      <td>0</td>\n",
       "      <td>0</td>\n",
       "      <td>0</td>\n",
       "      <td>0</td>\n",
       "      <td>0.000000</td>\n",
       "      <td>100</td>\n",
       "      <td>1</td>\n",
       "      <td>1</td>\n",
       "    </tr>\n",
       "    <tr>\n",
       "      <th>23984</th>\n",
       "      <td>110000</td>\n",
       "      <td>1</td>\n",
       "      <td>2</td>\n",
       "      <td>2</td>\n",
       "      <td>25</td>\n",
       "      <td>0</td>\n",
       "      <td>0</td>\n",
       "      <td>0</td>\n",
       "      <td>0</td>\n",
       "      <td>0</td>\n",
       "      <td>0</td>\n",
       "      <td>0</td>\n",
       "      <td>0.000000</td>\n",
       "      <td>100</td>\n",
       "      <td>1</td>\n",
       "      <td>1</td>\n",
       "    </tr>\n",
       "    <tr>\n",
       "      <th>15340</th>\n",
       "      <td>30000</td>\n",
       "      <td>2</td>\n",
       "      <td>2</td>\n",
       "      <td>1</td>\n",
       "      <td>43</td>\n",
       "      <td>0</td>\n",
       "      <td>0</td>\n",
       "      <td>0</td>\n",
       "      <td>0</td>\n",
       "      <td>0</td>\n",
       "      <td>0</td>\n",
       "      <td>0</td>\n",
       "      <td>0.000000</td>\n",
       "      <td>100</td>\n",
       "      <td>0</td>\n",
       "      <td>1</td>\n",
       "    </tr>\n",
       "    <tr>\n",
       "      <th>20758</th>\n",
       "      <td>140000</td>\n",
       "      <td>1</td>\n",
       "      <td>1</td>\n",
       "      <td>2</td>\n",
       "      <td>30</td>\n",
       "      <td>0</td>\n",
       "      <td>0</td>\n",
       "      <td>0</td>\n",
       "      <td>0</td>\n",
       "      <td>0</td>\n",
       "      <td>0</td>\n",
       "      <td>0</td>\n",
       "      <td>0.000000</td>\n",
       "      <td>100</td>\n",
       "      <td>1</td>\n",
       "      <td>1</td>\n",
       "    </tr>\n",
       "    <tr>\n",
       "      <th>3966</th>\n",
       "      <td>60000</td>\n",
       "      <td>2</td>\n",
       "      <td>2</td>\n",
       "      <td>2</td>\n",
       "      <td>25</td>\n",
       "      <td>0</td>\n",
       "      <td>0</td>\n",
       "      <td>2</td>\n",
       "      <td>6</td>\n",
       "      <td>5</td>\n",
       "      <td>4</td>\n",
       "      <td>0</td>\n",
       "      <td>0.472222</td>\n",
       "      <td>52</td>\n",
       "      <td>1</td>\n",
       "      <td>1</td>\n",
       "    </tr>\n",
       "    <tr>\n",
       "      <th>...</th>\n",
       "      <td>...</td>\n",
       "      <td>...</td>\n",
       "      <td>...</td>\n",
       "      <td>...</td>\n",
       "      <td>...</td>\n",
       "      <td>...</td>\n",
       "      <td>...</td>\n",
       "      <td>...</td>\n",
       "      <td>...</td>\n",
       "      <td>...</td>\n",
       "      <td>...</td>\n",
       "      <td>...</td>\n",
       "      <td>...</td>\n",
       "      <td>...</td>\n",
       "      <td>...</td>\n",
       "      <td>...</td>\n",
       "    </tr>\n",
       "    <tr>\n",
       "      <th>5402</th>\n",
       "      <td>50000</td>\n",
       "      <td>1</td>\n",
       "      <td>1</td>\n",
       "      <td>2</td>\n",
       "      <td>34</td>\n",
       "      <td>0</td>\n",
       "      <td>0</td>\n",
       "      <td>0</td>\n",
       "      <td>0</td>\n",
       "      <td>0</td>\n",
       "      <td>0</td>\n",
       "      <td>0</td>\n",
       "      <td>0.000000</td>\n",
       "      <td>100</td>\n",
       "      <td>1</td>\n",
       "      <td>1</td>\n",
       "    </tr>\n",
       "    <tr>\n",
       "      <th>1937</th>\n",
       "      <td>360000</td>\n",
       "      <td>2</td>\n",
       "      <td>2</td>\n",
       "      <td>2</td>\n",
       "      <td>27</td>\n",
       "      <td>0</td>\n",
       "      <td>0</td>\n",
       "      <td>0</td>\n",
       "      <td>0</td>\n",
       "      <td>0</td>\n",
       "      <td>0</td>\n",
       "      <td>1</td>\n",
       "      <td>0.000000</td>\n",
       "      <td>28</td>\n",
       "      <td>1</td>\n",
       "      <td>0</td>\n",
       "    </tr>\n",
       "    <tr>\n",
       "      <th>14979</th>\n",
       "      <td>50000</td>\n",
       "      <td>1</td>\n",
       "      <td>2</td>\n",
       "      <td>2</td>\n",
       "      <td>55</td>\n",
       "      <td>2</td>\n",
       "      <td>0</td>\n",
       "      <td>0</td>\n",
       "      <td>0</td>\n",
       "      <td>0</td>\n",
       "      <td>0</td>\n",
       "      <td>1</td>\n",
       "      <td>0.055556</td>\n",
       "      <td>40</td>\n",
       "      <td>0</td>\n",
       "      <td>0</td>\n",
       "    </tr>\n",
       "    <tr>\n",
       "      <th>18031</th>\n",
       "      <td>120000</td>\n",
       "      <td>1</td>\n",
       "      <td>2</td>\n",
       "      <td>1</td>\n",
       "      <td>40</td>\n",
       "      <td>0</td>\n",
       "      <td>0</td>\n",
       "      <td>0</td>\n",
       "      <td>0</td>\n",
       "      <td>0</td>\n",
       "      <td>0</td>\n",
       "      <td>0</td>\n",
       "      <td>0.000000</td>\n",
       "      <td>100</td>\n",
       "      <td>0</td>\n",
       "      <td>1</td>\n",
       "    </tr>\n",
       "    <tr>\n",
       "      <th>877</th>\n",
       "      <td>280000</td>\n",
       "      <td>2</td>\n",
       "      <td>2</td>\n",
       "      <td>2</td>\n",
       "      <td>27</td>\n",
       "      <td>0</td>\n",
       "      <td>0</td>\n",
       "      <td>0</td>\n",
       "      <td>0</td>\n",
       "      <td>0</td>\n",
       "      <td>0</td>\n",
       "      <td>0</td>\n",
       "      <td>0.000000</td>\n",
       "      <td>100</td>\n",
       "      <td>1</td>\n",
       "      <td>1</td>\n",
       "    </tr>\n",
       "  </tbody>\n",
       "</table>\n",
       "<p>15000 rows × 16 columns</p>\n",
       "</div>"
      ],
      "text/plain": [
       "       LIMIT_BAL  SEX  EDUCATION  MARRIAGE  AGE  PAY_0  PAY_2  PAY_3  PAY_4  \\\n",
       "23559     210000    2          2         2   34      0      0      0      0   \n",
       "23984     110000    1          2         2   25      0      0      0      0   \n",
       "15340      30000    2          2         1   43      0      0      0      0   \n",
       "20758     140000    1          1         2   30      0      0      0      0   \n",
       "3966       60000    2          2         2   25      0      0      2      6   \n",
       "...          ...  ...        ...       ...  ...    ...    ...    ...    ...   \n",
       "5402       50000    1          1         2   34      0      0      0      0   \n",
       "1937      360000    2          2         2   27      0      0      0      0   \n",
       "14979      50000    1          2         2   55      2      0      0      0   \n",
       "18031     120000    1          2         1   40      0      0      0      0   \n",
       "877       280000    2          2         2   27      0      0      0      0   \n",
       "\n",
       "       PAY_5  PAY_6  Y         R  Credit  Protected  Y1  \n",
       "23559      0      0  0  0.000000     100          1   1  \n",
       "23984      0      0  0  0.000000     100          1   1  \n",
       "15340      0      0  0  0.000000     100          0   1  \n",
       "20758      0      0  0  0.000000     100          1   1  \n",
       "3966       5      4  0  0.472222      52          1   1  \n",
       "...      ...    ... ..       ...     ...        ...  ..  \n",
       "5402       0      0  0  0.000000     100          1   1  \n",
       "1937       0      0  1  0.000000      28          1   0  \n",
       "14979      0      0  1  0.055556      40          0   0  \n",
       "18031      0      0  0  0.000000     100          0   1  \n",
       "877        0      0  0  0.000000     100          1   1  \n",
       "\n",
       "[15000 rows x 16 columns]"
      ]
     },
     "execution_count": 141,
     "metadata": {},
     "output_type": "execute_result"
    }
   ],
   "source": [
    "train_data"
   ]
  },
  {
   "cell_type": "code",
   "execution_count": null,
   "id": "3ef831d6",
   "metadata": {},
   "outputs": [],
   "source": []
  },
  {
   "cell_type": "code",
   "execution_count": null,
   "id": "be86b4b6",
   "metadata": {},
   "outputs": [],
   "source": []
  },
  {
   "cell_type": "code",
   "execution_count": 142,
   "id": "0e03b15a",
   "metadata": {},
   "outputs": [],
   "source": [
    "young_pos = train_data[(train_data.Y1==1)&(train_data.Protected==1)].shape[0]\n",
    "old_pos = train_data[(train_data.Y1==1)&(train_data.Protected==0)].shape[0]\n",
    "old = train_data[train_data.Protected==0].shape[0]\n",
    "young = train_data[train_data.Protected==1].shape[0]\n",
    "\n",
    "dis_impact = (old_pos/old)/(young_pos/young)"
   ]
  },
  {
   "cell_type": "code",
   "execution_count": 143,
   "id": "7b280d47",
   "metadata": {},
   "outputs": [
    {
     "data": {
      "text/plain": [
       "0.9724513601929761"
      ]
     },
     "execution_count": 143,
     "metadata": {},
     "output_type": "execute_result"
    }
   ],
   "source": [
    "dis_impact"
   ]
  },
  {
   "cell_type": "code",
   "execution_count": 144,
   "id": "9314bd66",
   "metadata": {},
   "outputs": [],
   "source": [
    "spd = (old_pos/young_pos) - (old/young)"
   ]
  },
  {
   "cell_type": "code",
   "execution_count": 145,
   "id": "9ac52501",
   "metadata": {},
   "outputs": [
    {
     "data": {
      "text/plain": [
       "-0.011983513364827114"
      ]
     },
     "execution_count": 145,
     "metadata": {},
     "output_type": "execute_result"
    }
   ],
   "source": [
    "spd"
   ]
  },
  {
   "cell_type": "code",
   "execution_count": 153,
   "id": "3f3e8549",
   "metadata": {},
   "outputs": [
    {
     "data": {
      "image/png": "[encoded data removed]",
      "text/plain": [
       "<Figure size 432x288 with 1 Axes>"
      ]
     },
     "metadata": {
      "needs_background": "light"
     },
     "output_type": "display_data"
    }
   ],
   "source": [
    "plt.bar([\"Disparate Impact\"], [dis_impact])\n",
    "plt.axhline(y=1,color='green', label=\"Fair\")\n",
    "plt.ylim((-1, 1.5))\n",
    "plt.legend()\n",
    "plt.title(\"Protected Attribute: Age\")\n",
    "plt.show()"
   ]
  },
  {
   "cell_type": "code",
   "execution_count": 158,
   "id": "da5b4c2c",
   "metadata": {},
   "outputs": [
    {
     "data": {
      "image/png": "[encoded data removed]",
      "text/plain": [
       "<Figure size 432x288 with 1 Axes>"
      ]
     },
     "metadata": {
      "needs_background": "light"
     },
     "output_type": "display_data"
    }
   ],
   "source": [
    "plt.bar([\"Statistical Parity Difference\"], [spd])\n",
    "plt.axhline(y=0,color='green', label=\"Fair\")\n",
    "plt.ylim((-.1, .1))\n",
    "plt.legend()\n",
    "plt.title(\"Protected Attribute: Age\")\n",
    "plt.show()"
   ]
  },
  {
   "cell_type": "code",
   "execution_count": null,
   "id": "bcc6c257",
   "metadata": {},
   "outputs": [],
   "source": []
  },
  {
   "cell_type": "code",
   "execution_count": null,
   "id": "6f87afe7",
   "metadata": {},
   "outputs": [],
   "source": []
  },
  {
   "cell_type": "code",
   "execution_count": 175,
   "id": "fb0343cd",
   "metadata": {},
   "outputs": [
    {
     "data": {
      "image/png": "[encoded data removed]",
      "text/plain": [
       "<Figure size 432x288 with 1 Axes>"
      ]
     },
     "metadata": {
      "needs_background": "light"
     },
     "output_type": "display_data"
    }
   ],
   "source": [
    "train_data[train_data.Protected==1][\"Credit\"].plot(kind=\"hist\")\n",
    "plt.ylabel(\"Number of Customers\")\n",
    "plt.xlabel(\"Creditworthiness\")\n",
    "plt.axvline(x=48,color='red', label=\"Threshold = 48\")\n",
    "plt.title(\"Privileged Group: Young (Age<40)\")\n",
    "plt.legend()\n",
    "plt.show()"
   ]
  },
  {
   "cell_type": "code",
   "execution_count": 179,
   "id": "a22b143e",
   "metadata": {},
   "outputs": [
    {
     "name": "stdout",
     "output_type": "stream",
     "text": [
      "81882\n"
     ]
    }
   ],
   "source": [
    "thresh = 48\n",
    "profit = 0\n",
    "for i, S in train_data[train_data.Protected==1].iterrows():\n",
    "    if S[\"Y\"]==0 and S[\"Credit\"]>thresh:\n",
    "        profit += 10\n",
    "    if S[\"Y\"]==0 and S[\"Credit\"]<=thresh:\n",
    "        profit -= 5\n",
    "    if S[\"Y\"]==1 and S[\"Credit\"]>thresh:\n",
    "        profit -= 3\n",
    "    if S[\"Y\"]==1 and S[\"Credit\"]<=thresh:\n",
    "        profit += 0\n",
    "print(profit)"
   ]
  },
  {
   "cell_type": "code",
   "execution_count": 176,
   "id": "5f9bd5e9",
   "metadata": {},
   "outputs": [
    {
     "data": {
      "image/png": "[encoded data removed]",
      "text/plain": [
       "<Figure size 432x288 with 1 Axes>"
      ]
     },
     "metadata": {
      "needs_background": "light"
     },
     "output_type": "display_data"
    }
   ],
   "source": [
    "train_data[train_data.Protected==0][\"Credit\"].plot(kind=\"hist\")\n",
    "plt.ylabel(\"Number of Customers\")\n",
    "plt.xlabel(\"Creditworthiness\")\n",
    "plt.axvline(x=48,color='red', label=\"Threshold = 48\")\n",
    "plt.title(\"Unprivileged Group: Old (Age>=40)\")\n",
    "plt.legend()\n",
    "plt.show()"
   ]
  },
  {
   "cell_type": "code",
   "execution_count": 182,
   "id": "fb08d1a8",
   "metadata": {},
   "outputs": [
    {
     "name": "stdout",
     "output_type": "stream",
     "text": [
      "34644\n"
     ]
    }
   ],
   "source": [
    "thresh = 48\n",
    "profit = 0\n",
    "for i, S in train_data[train_data.Protected==0].iterrows():\n",
    "    if S[\"Y\"]==0 and S[\"Credit\"]>thresh:\n",
    "        profit += 10\n",
    "    if S[\"Y\"]==0 and S[\"Credit\"]<=thresh:\n",
    "        profit -= 5\n",
    "    if S[\"Y\"]==1 and S[\"Credit\"]>thresh:\n",
    "        profit -= 3\n",
    "    if S[\"Y\"]==1 and S[\"Credit\"]<=thresh:\n",
    "        profit += 0\n",
    "print(profit)"
   ]
  },
  {
   "cell_type": "code",
   "execution_count": 185,
   "id": "f687bf23",
   "metadata": {},
   "outputs": [
    {
     "data": {
      "text/plain": [
       "116526"
      ]
     },
     "execution_count": 185,
     "metadata": {},
     "output_type": "execute_result"
    }
   ],
   "source": [
    "81882+34644"
   ]
  }
 ],
 "metadata": {
  "kernelspec": {
   "display_name": "Python 3 (ipykernel)",
   "language": "python",
   "name": "python3"
  },
  "language_info": {
   "codemirror_mode": {
    "name": "ipython",
    "version": 3
   },
   "file_extension": ".py",
   "mimetype": "text/x-python",
   "name": "python",
   "nbconvert_exporter": "python",
   "pygments_lexer": "ipython3",
   "version": "3.8.12"
  }
 },
 "nbformat": 4,
 "nbformat_minor": 5
}
