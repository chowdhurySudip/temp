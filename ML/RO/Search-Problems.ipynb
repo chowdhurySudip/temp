{
 "cells": [
  {
   "cell_type": "code",
   "execution_count": 1,
   "id": "976e617c",
   "metadata": {},
   "outputs": [],
   "source": [
    "import numpy as np\n",
    "import pandas as pd\n",
    "import matplotlib.pyplot as plt\n",
    "import mlrose_hiive\n",
    "from time import time"
   ]
  },
  {
   "cell_type": "code",
   "execution_count": 2,
   "id": "01fbed6a",
   "metadata": {},
   "outputs": [],
   "source": [
    "seed = 42"
   ]
  },
  {
   "cell_type": "markdown",
   "id": "aa47a73f",
   "metadata": {},
   "source": [
    "## Flip-Flop Problem"
   ]
  },
  {
   "cell_type": "code",
   "execution_count": 3,
   "id": "8d305c78",
   "metadata": {},
   "outputs": [],
   "source": [
    "flipflop = mlrose_hiive.FlipFlopOpt(length=100)"
   ]
  },
  {
   "cell_type": "code",
   "execution_count": 4,
   "id": "cb06d4f2",
   "metadata": {},
   "outputs": [
    {
     "name": "stdout",
     "output_type": "stream",
     "text": [
      "Flip Flop RHC Time Taken: 433.5593590736389s\n"
     ]
    }
   ],
   "source": [
    "%%time\n",
    "\n",
    "# Randomized Hill Climb\n",
    "flipflop_rhc = mlrose_hiive.RHCRunner(\n",
    "    problem=flipflop, experiment_name=\"flip-flop-rhc\",\n",
    "    seed=seed, iteration_list=[10000],\n",
    "    restart_list=[100], max_attempts=100\n",
    ")\n",
    "flipflop_rhc_stats, flipflop_rhc_curves = flipflop_rhc.run()"
   ]
  },
  {
   "cell_type": "code",
   "execution_count": 6,
   "id": "b6bf21d2",
   "metadata": {},
   "outputs": [
    {
     "data": {
      "text/plain": [
       "14.0"
      ]
     },
     "execution_count": 6,
     "metadata": {},
     "output_type": "execute_result"
    }
   ],
   "source": [
    "best_index_in_curve = flipflop_rhc_curves.Fitness.idxmax()\n",
    "best_decay = flipflop_rhc_curves.iloc[best_index_in_curve].current_restart\n",
    "best_curve = flipflop_rhc_curves.loc[flipflop_rhc_curves.current_restart == best_decay, :]\n",
    "best_curve.reset_index(inplace=True)\n",
    "best_decay"
   ]
  },
  {
   "cell_type": "code",
   "execution_count": 7,
   "id": "120442d3",
   "metadata": {},
   "outputs": [
    {
     "data": {
      "text/plain": [
       "Text(0, 0.5, 'Value')"
      ]
     },
     "execution_count": 7,
     "metadata": {},
     "output_type": "execute_result"
    },
    {
     "data": {
      "image/png": "[encoded data removed]",
      "text/plain": [
       "<Figure size 864x576 with 1 Axes>"
      ]
     },
     "metadata": {
      "needs_background": "light"
     },
     "output_type": "display_data"
    }
   ],
   "source": [
    "plot = best_curve.Fitness.plot(title='Randomized Hill Climb')\n",
    "plot.set_xlabel(\"Iterations\")\n",
    "plot.set_ylabel(\"Value\")\n",
    "plt.show()"
   ]
  },
  {
   "cell_type": "code",
   "execution_count": 8,
   "id": "6a176e75",
   "metadata": {},
   "outputs": [
    {
     "name": "stdout",
     "output_type": "stream",
     "text": [
      "79.61386138613861 86.0\n",
      "189.4042582\n"
     ]
    }
   ],
   "source": [
    "last_iters = flipflop_rhc_stats[flipflop_rhc_stats.Iteration != 0].reset_index()\n",
    "print(last_iters.Fitness.mean(), last_iters.Fitness.max())\n",
    "print(last_iters.Time.max())"
   ]
  },
  {
   "cell_type": "code",
   "execution_count": null,
   "id": "303a3d79",
   "metadata": {},
   "outputs": [],
   "source": []
  },
  {
   "cell_type": "code",
   "execution_count": 4,
   "id": "43d393a7",
   "metadata": {},
   "outputs": [
    {
     "name": "stdout",
     "output_type": "stream",
     "text": [
      "Flip Flop SA Time Taken: 125.01507496833801s\n"
     ]
    }
   ],
   "source": [
    "start = time()\n",
    "sa = mlrose_hiive.SARunner(flipflop, experiment_name=\"flip-flop-sa\", \n",
    "                           iteration_list=[100000],\n",
    "                           temperature_list=[1, 10, 50, 100, 250],\n",
    "                           decay_list=[mlrose_hiive.ExpDecay,\n",
    "                                       mlrose_hiive.GeomDecay],\n",
    "                           seed=seed, max_attempts=100)\n",
    "\n",
    "sa_run_stats, sa_run_curves = sa.run()\n",
    "end = time()\n",
    "print(f\"Flip Flop SA Time Taken: {end-start}s\")"
   ]
  },
  {
   "cell_type": "code",
   "execution_count": 5,
   "id": "bed0091d",
   "metadata": {},
   "outputs": [
    {
     "name": "stdout",
     "output_type": "stream",
     "text": [
      "97.2 98.0\n",
      "12.442907250000001\n"
     ]
    }
   ],
   "source": [
    "last_iters = sa_run_stats[sa_run_stats.Iteration != 0].reset_index()\n",
    "print(last_iters.Fitness.mean(), last_iters.Fitness.max())\n",
    "print(last_iters.Time.mean())"
   ]
  },
  {
   "cell_type": "code",
   "execution_count": 6,
   "id": "91ea4dcb",
   "metadata": {},
   "outputs": [
    {
     "name": "stdout",
     "output_type": "stream",
     "text": [
      "5.218676450000004\n",
      "16.688997649999997\n",
      "23.971996999999995\n",
      "7.273951000000011\n",
      "9.060914150000002\n",
      "12.442907250000001\n"
     ]
    }
   ],
   "source": [
    "print(last_iters.loc[last_iters.schedule_init_temp == 1, \"Time\"].mean())\n",
    "print(last_iters.loc[last_iters.schedule_init_temp == 10, \"Time\"].mean())\n",
    "print(last_iters.loc[last_iters.schedule_init_temp == 50, \"Time\"].mean())\n",
    "print(last_iters.loc[last_iters.schedule_init_temp == 100, \"Time\"].mean())\n",
    "print(last_iters.loc[last_iters.schedule_init_temp == 250, \"Time\"].mean())\n",
    "print(last_iters.loc[:, \"Time\"].mean())"
   ]
  },
  {
   "cell_type": "code",
   "execution_count": 7,
   "id": "60fb9d83",
   "metadata": {},
   "outputs": [
    {
     "data": {
      "text/plain": [
       "ExpDecay(init_temp=1, exp_const=0.005, min_temp=0.001)"
      ]
     },
     "execution_count": 7,
     "metadata": {},
     "output_type": "execute_result"
    }
   ],
   "source": [
    "best_index_in_curve = sa_run_curves.Fitness.idxmax()\n",
    "best_decay = sa_run_curves.iloc[best_index_in_curve].Temperature\n",
    "best_curve = sa_run_curves.loc[sa_run_curves.Temperature == best_decay, :]\n",
    "best_curve.reset_index(inplace=True)\n",
    "best_decay"
   ]
  },
  {
   "cell_type": "code",
   "execution_count": 8,
   "id": "db826aae",
   "metadata": {},
   "outputs": [
    {
     "data": {
      "text/plain": [
       "Text(0, 0.5, 'Value')"
      ]
     },
     "execution_count": 8,
     "metadata": {},
     "output_type": "execute_result"
    },
    {
     "data": {
      "image/png": "[encoded data removed]",
      "text/plain": [
       "<Figure size 864x576 with 1 Axes>"
      ]
     },
     "metadata": {
      "needs_background": "light"
     },
     "output_type": "display_data"
    }
   ],
   "source": [
    "ax = best_curve.Fitness.plot(lw=2, colormap='jet', marker='.', markersize=2, \n",
    "                             figsize=(12,8), grid=1,\n",
    "                             title='Best Simulated Annealing')\n",
    "ax.set_xlabel(\"Iterations\")\n",
    "ax.set_ylabel(\"Value\")"
   ]
  },
  {
   "cell_type": "code",
   "execution_count": null,
   "id": "db0d31ea",
   "metadata": {},
   "outputs": [],
   "source": []
  },
  {
   "cell_type": "code",
   "execution_count": 9,
   "id": "3db08280",
   "metadata": {},
   "outputs": [
    {
     "name": "stdout",
     "output_type": "stream",
     "text": [
      "Flip Flop GA Time Taken: 3.6551663875579834s\n"
     ]
    }
   ],
   "source": [
    "start = time()\n",
    "ga = mlrose_hiive.GARunner(problem=flipflop,\n",
    "                          experiment_name=\"flip-flip-ga\",\n",
    "                          seed=seed,\n",
    "                          iteration_list=[100000],\n",
    "                          max_attempts=100,\n",
    "                          population_sizes=[20,50,100],\n",
    "                          mutation_rates=[0.1, 0.25, 0.5])\n",
    "ga_run_stats, ga_run_curves = ga.run() \n",
    "end = time()\n",
    "print(f\"Flip Flop GA Time Taken: {end-start}s\")"
   ]
  },
  {
   "cell_type": "code",
   "execution_count": 11,
   "id": "1090914d",
   "metadata": {},
   "outputs": [
    {
     "name": "stdout",
     "output_type": "stream",
     "text": [
      "Max and mean and time-mean\n",
      "90.0 86.55555555555556 0.4008757333333379\n",
      "Mutation Rate\n",
      "0.10    85.666667\n",
      "0.25    85.666667\n",
      "0.50    88.333333\n",
      "Name: Fitness, dtype: float64\n",
      "Population Size\n",
      "20     84.666667\n",
      "50     86.666667\n",
      "100    88.333333\n",
      "Name: Fitness, dtype: float64\n",
      "Population Size\n",
      "20     0.242526\n",
      "50     0.415622\n",
      "100    0.544479\n",
      "Name: Time, dtype: float64\n"
     ]
    }
   ],
   "source": [
    "last_iters = ga_run_stats[ga_run_stats.Iteration != 0].reset_index()\n",
    "print(\"Max and mean and time-mean\")\n",
    "print(last_iters.Fitness.max(), last_iters.Fitness.mean(), last_iters.Time.mean())\n",
    "print(last_iters.groupby(\"Mutation Rate\").Fitness.mean())\n",
    "print(last_iters.groupby(\"Population Size\").Fitness.mean())\n",
    "print(last_iters.groupby(\"Population Size\").Time.mean())"
   ]
  },
  {
   "cell_type": "code",
   "execution_count": null,
   "id": "62404fcb",
   "metadata": {},
   "outputs": [],
   "source": []
  },
  {
   "cell_type": "code",
   "execution_count": 12,
   "id": "a0aae69d",
   "metadata": {},
   "outputs": [
    {
     "name": "stdout",
     "output_type": "stream",
     "text": [
      "Flip Flop MIMIC Time Taken: 27.04333472251892s\n"
     ]
    }
   ],
   "source": [
    "start = time()\n",
    "mmc = mlrose_hiive.MIMICRunner(problem=flipflop,\n",
    "                          experiment_name=\"MMC_Exp\",\n",
    "                          seed=seed,\n",
    "                          iteration_list=[100000],\n",
    "                          max_attempts=100,\n",
    "                          population_sizes=[20,50,100],\n",
    "                          keep_percent_list=[0.25, 0.5, 0.75],\n",
    "                          use_fast_mimic=True)\n",
    "\n",
    "# the two data frames will contain the results\n",
    "mmc_run_stats, mmc_run_curves = mmc.run()\n",
    "end = time()\n",
    "print(f\"Flip Flop MIMIC Time Taken: {end-start}s\")"
   ]
  },
  {
   "cell_type": "code",
   "execution_count": 13,
   "id": "270db971",
   "metadata": {},
   "outputs": [
    {
     "name": "stdout",
     "output_type": "stream",
     "text": [
      "Max and mean\n",
      "85.0 73.11111111111111 3.001993577777777\n",
      "Keep Percent\n",
      "0.25    71.000000\n",
      "0.50    75.000000\n",
      "0.75    73.333333\n",
      "Name: Fitness, dtype: float64\n",
      "Population Size\n",
      "20     67.333333\n",
      "50     72.333333\n",
      "100    79.666667\n",
      "Name: Fitness, dtype: float64\n",
      "Population Size\n",
      "20     2.010595\n",
      "50     2.726461\n",
      "100    4.268925\n",
      "Name: Time, dtype: float64\n"
     ]
    }
   ],
   "source": [
    "last_iters = mmc_run_stats[mmc_run_stats.Iteration != 0].reset_index()\n",
    "print(\"Max and mean\")\n",
    "print(last_iters.Fitness.max(), last_iters.Fitness.mean(), last_iters.Time.mean())\n",
    "print(last_iters.groupby(\"Keep Percent\").Fitness.mean())\n",
    "print(last_iters.groupby(\"Population Size\").Fitness.mean())\n",
    "print(last_iters.groupby(\"Population Size\").Time.mean())"
   ]
  },
  {
   "cell_type": "code",
   "execution_count": null,
   "id": "3586639a",
   "metadata": {},
   "outputs": [],
   "source": []
  },
  {
   "cell_type": "code",
   "execution_count": null,
   "id": "025e96e1",
   "metadata": {},
   "outputs": [],
   "source": []
  },
  {
   "cell_type": "code",
   "execution_count": null,
   "id": "f611046a",
   "metadata": {},
   "outputs": [],
   "source": []
  },
  {
   "cell_type": "code",
   "execution_count": 3,
   "id": "580b4c4d",
   "metadata": {},
   "outputs": [],
   "source": [
    "knapsack_len=200\n",
    "# weights between 10 to 40\n",
    "knapsack_weights=np.random.uniform(10,40,knapsack_len)\n",
    "# values between 20 to 30\n",
    "knapsack_values=np.random.uniform(20,30,knapsack_len)\n",
    "max_weight_pct = 0.5\n",
    "problem = mlrose_hiive.KnapsackOpt(weights=knapsack_weights, values=knapsack_values,\n",
    "                                  max_weight_pct=max_weight_pct)"
   ]
  },
  {
   "cell_type": "code",
   "execution_count": 15,
   "id": "8b3a738f",
   "metadata": {},
   "outputs": [
    {
     "name": "stdout",
     "output_type": "stream",
     "text": [
      "25.204540967941284\n"
     ]
    }
   ],
   "source": [
    "start = time()\n",
    "# DiscreteOpt() takes integers in range 0 to max_val-1\n",
    "\n",
    "runner_return = mlrose_hiive.RHCRunner(problem, experiment_name=\"first_try\", \n",
    "                                       iteration_list=[10000],\n",
    "                                       seed=44, max_attempts=100, \n",
    "                                       restart_list=[100])\n",
    "rhc_run_stats, rhc_run_curves = runner_return.run()\n",
    "end = time()\n",
    "print(end-start)"
   ]
  },
  {
   "cell_type": "code",
   "execution_count": 16,
   "id": "ecb94343",
   "metadata": {},
   "outputs": [
    {
     "data": {
      "text/plain": [
       "7.0"
      ]
     },
     "execution_count": 16,
     "metadata": {},
     "output_type": "execute_result"
    }
   ],
   "source": [
    "best_index_in_curve = rhc_run_curves.Fitness.idxmax()\n",
    "best_decay = rhc_run_curves.iloc[best_index_in_curve].current_restart\n",
    "best_curve = rhc_run_curves.loc[rhc_run_curves.current_restart == best_decay, :]\n",
    "best_curve.reset_index(inplace=True)\n",
    "best_decay"
   ]
  },
  {
   "cell_type": "code",
   "execution_count": 17,
   "id": "a98f5277",
   "metadata": {},
   "outputs": [
    {
     "data": {
      "text/plain": [
       "Text(0, 0.5, 'Value')"
      ]
     },
     "execution_count": 17,
     "metadata": {},
     "output_type": "execute_result"
    },
    {
     "data": {
      "image/png": "[encoded data removed]",
      "text/plain": [
       "<Figure size 864x576 with 1 Axes>"
      ]
     },
     "metadata": {
      "needs_background": "light"
     },
     "output_type": "display_data"
    }
   ],
   "source": [
    "ax = best_curve.Fitness.plot(lw=2, colormap='jet', marker='.', markersize=2, \n",
    "                             figsize=(12,8), grid=1,\n",
    "                             title='Best Random Search')\n",
    "ax.set_xlabel(\"Iterations\")\n",
    "ax.set_ylabel(\"Value\")"
   ]
  },
  {
   "cell_type": "code",
   "execution_count": 18,
   "id": "a210fb8a",
   "metadata": {},
   "outputs": [
    {
     "name": "stdout",
     "output_type": "stream",
     "text": [
      "1599.5613266318162 2702.6756801780593\n",
      "25.18306040000016\n"
     ]
    }
   ],
   "source": [
    "last_iters = rhc_run_stats[rhc_run_stats.Iteration != 0].reset_index()\n",
    "print(last_iters.Fitness.mean(), last_iters.Fitness.max())\n",
    "print(last_iters.Time.max())"
   ]
  },
  {
   "cell_type": "code",
   "execution_count": 19,
   "id": "c865e66b",
   "metadata": {},
   "outputs": [
    {
     "name": "stdout",
     "output_type": "stream",
     "text": [
      "Wall time: 2.33 s\n"
     ]
    }
   ],
   "source": [
    "%%time\n",
    "sa = mlrose_hiive.SARunner(problem, experiment_name=\"SA_Exp\", \n",
    "                           iteration_list=[100000],\n",
    "                           temperature_list=[1, 10, 50, 100, 250, 500, 1000, 2500, 5000],\n",
    "                           decay_list=[mlrose_hiive.ExpDecay,\n",
    "                                       mlrose_hiive.GeomDecay],\n",
    "                           seed=44, max_attempts=100)\n",
    "\n",
    "sa_run_stats, sa_run_curves = sa.run()   "
   ]
  },
  {
   "cell_type": "code",
   "execution_count": 20,
   "id": "8224f340",
   "metadata": {},
   "outputs": [
    {
     "name": "stdout",
     "output_type": "stream",
     "text": [
      "2657.5904326844593 2801.142398776996\n",
      "0.1167900944444682\n"
     ]
    }
   ],
   "source": [
    "last_iters = sa_run_stats[sa_run_stats.Iteration != 0].reset_index()\n",
    "print(last_iters.Fitness.mean(), last_iters.Fitness.max())\n",
    "print(last_iters.Time.mean())"
   ]
  },
  {
   "cell_type": "code",
   "execution_count": 21,
   "id": "2efe6302",
   "metadata": {},
   "outputs": [
    {
     "data": {
      "text/plain": [
       "ExpDecay(init_temp=250, exp_const=0.005, min_temp=0.001)"
      ]
     },
     "execution_count": 21,
     "metadata": {},
     "output_type": "execute_result"
    }
   ],
   "source": [
    "best_index_in_curve = sa_run_curves.Fitness.idxmax()\n",
    "best_decay = sa_run_curves.iloc[best_index_in_curve].Temperature\n",
    "best_curve = sa_run_curves.loc[sa_run_curves.Temperature == best_decay, :]\n",
    "best_curve.reset_index(inplace=True)\n",
    "best_decay"
   ]
  },
  {
   "cell_type": "code",
   "execution_count": 22,
   "id": "3c887865",
   "metadata": {},
   "outputs": [
    {
     "data": {
      "text/plain": [
       "Text(0, 0.5, 'Value')"
      ]
     },
     "execution_count": 22,
     "metadata": {},
     "output_type": "execute_result"
    },
    {
     "data": {
      "image/png": "[encoded data removed]",
      "text/plain": [
       "<Figure size 864x576 with 1 Axes>"
      ]
     },
     "metadata": {
      "needs_background": "light"
     },
     "output_type": "display_data"
    }
   ],
   "source": [
    "ax = best_curve.Fitness.plot(lw=2, colormap='jet', marker='.', markersize=2, \n",
    "                             figsize=(12,8), grid=1,\n",
    "                             title='Best Simulated Annealing')\n",
    "ax.set_xlabel(\"Iterations\")\n",
    "ax.set_ylabel(\"Value\")"
   ]
  },
  {
   "cell_type": "code",
   "execution_count": 23,
   "id": "a9ba9e73",
   "metadata": {},
   "outputs": [
    {
     "name": "stdout",
     "output_type": "stream",
     "text": [
      "Wall time: 1min 13s\n"
     ]
    }
   ],
   "source": [
    "%%time\n",
    "ga = mlrose_hiive.GARunner(problem=problem,\n",
    "                          experiment_name=\"GA_Exp\",\n",
    "                          seed=44,\n",
    "                          iteration_list=[100000],\n",
    "                          max_attempts=100,\n",
    "                          population_sizes=[500, 1000],\n",
    "                          mutation_rates=[0.1, 0.25, 0.5])\n",
    "ga_run_stats, ga_run_curves = ga.run()   "
   ]
  },
  {
   "cell_type": "code",
   "execution_count": 24,
   "id": "2ba99bb1",
   "metadata": {},
   "outputs": [
    {
     "name": "stdout",
     "output_type": "stream",
     "text": [
      "Max and mean\n",
      "3318.6852115591482 3315.8756171433265 12.200542616666704\n",
      "Mutation Rate\n",
      "0.10    3317.545381\n",
      "0.25    3314.316022\n",
      "0.50    3315.765448\n",
      "Name: Fitness, dtype: float64\n",
      "Population Size\n",
      "500     3315.653284\n",
      "1000    3316.097950\n",
      "Name: Fitness, dtype: float64\n",
      "Population Size\n",
      "500      9.322488\n",
      "1000    15.078597\n",
      "Name: Time, dtype: float64\n"
     ]
    }
   ],
   "source": [
    "last_iters = ga_run_stats[ga_run_stats.Iteration != 0].reset_index()\n",
    "print(\"Max and mean\")\n",
    "print(last_iters.Fitness.max(), last_iters.Fitness.mean(), last_iters.Time.mean())\n",
    "print(last_iters.groupby(\"Mutation Rate\").Fitness.mean())\n",
    "print(last_iters.groupby(\"Population Size\").Fitness.mean())\n",
    "print(last_iters.groupby(\"Population Size\").Time.mean())"
   ]
  },
  {
   "cell_type": "code",
   "execution_count": 4,
   "id": "3d2a9c87",
   "metadata": {},
   "outputs": [
    {
     "name": "stdout",
     "output_type": "stream",
     "text": [
      "419.891015291214\n"
     ]
    }
   ],
   "source": [
    "start = time()\n",
    "mmc = mlrose_hiive.MIMICRunner(problem=problem,\n",
    "                          experiment_name=\"MMC_Exp\",\n",
    "                          seed=44,\n",
    "                          iteration_list=[100000],\n",
    "                          max_attempts=100,\n",
    "                          population_sizes=[500,1000],\n",
    "                          keep_percent_list=[0.1, 0.25, 0.5],\n",
    "                          use_fast_mimic=True)\n",
    "\n",
    "# the two data frames will contain the results\n",
    "mmc_run_stats, mmc_run_curves = mmc.run()\n",
    "end = time()\n",
    "print(end-start)"
   ]
  },
  {
   "cell_type": "code",
   "execution_count": 5,
   "id": "7b8c7fe9",
   "metadata": {},
   "outputs": [
    {
     "name": "stdout",
     "output_type": "stream",
     "text": [
      "Max and mean\n",
      "3222.4488449001606 3206.4378037500633 69.99321016666667\n",
      "Keep Percent\n",
      "0.10    3200.771621\n",
      "0.25    3214.424912\n",
      "0.50    3204.116879\n",
      "Name: Fitness, dtype: float64\n",
      "Population Size\n",
      "500     3192.379650\n",
      "1000    3220.495957\n",
      "Name: Fitness, dtype: float64\n",
      "Population Size\n",
      "500     46.83991\n",
      "1000    93.14651\n",
      "Name: Time, dtype: float64\n"
     ]
    }
   ],
   "source": [
    "last_iters = mmc_run_stats[mmc_run_stats.Iteration != 0].reset_index()\n",
    "print(\"Max and mean\")\n",
    "print(last_iters.Fitness.max(), last_iters.Fitness.mean(), last_iters.Time.mean())\n",
    "print(last_iters.groupby(\"Keep Percent\").Fitness.mean())\n",
    "print(last_iters.groupby(\"Population Size\").Fitness.mean())\n",
    "print(last_iters.groupby(\"Population Size\").Time.mean())"
   ]
  },
  {
   "cell_type": "markdown",
   "id": "2f2ae759",
   "metadata": {},
   "source": [
    "## Four Peaks Problem"
   ]
  },
  {
   "cell_type": "code",
   "execution_count": 3,
   "id": "d2a037fa",
   "metadata": {},
   "outputs": [],
   "source": [
    "import time"
   ]
  },
  {
   "cell_type": "code",
   "execution_count": 3,
   "id": "b2e14168",
   "metadata": {},
   "outputs": [],
   "source": [
    "fitness = mlrose_hiive.FourPeaks(t_pct=0.1)\n",
    "problem = mlrose_hiive.DiscreteOpt(length=40, fitness_fn=fitness, maximize=True, max_val=2)"
   ]
  },
  {
   "cell_type": "code",
   "execution_count": 8,
   "id": "6bf7691e",
   "metadata": {},
   "outputs": [
    {
     "name": "stdout",
     "output_type": "stream",
     "text": [
      "331.59712958335876\n"
     ]
    }
   ],
   "source": [
    "start = time()\n",
    "# DiscreteOpt() takes integers in range 0 to max_val-1\n",
    "\n",
    "runner_return = mlrose_hiive.RHCRunner(problem, experiment_name=\"first_try\", \n",
    "                                       iteration_list=[10000],\n",
    "                                       seed=44, max_attempts=100, \n",
    "                                       restart_list=[100])\n",
    "rhc_run_stats, rhc_run_curves = runner_return.run()\n",
    "end = time()\n",
    "print(end-start)"
   ]
  },
  {
   "cell_type": "code",
   "execution_count": 9,
   "id": "fafd38d5",
   "metadata": {},
   "outputs": [
    {
     "name": "stdout",
     "output_type": "stream",
     "text": [
      "24.554455445544555 75.0\n",
      "331.5100518\n"
     ]
    }
   ],
   "source": [
    "last_iters = rhc_run_stats[rhc_run_stats.Iteration != 0].reset_index()\n",
    "print(last_iters.Fitness.mean(), last_iters.Fitness.max())\n",
    "print(last_iters.Time.max())"
   ]
  },
  {
   "cell_type": "code",
   "execution_count": 7,
   "id": "421a0b15",
   "metadata": {},
   "outputs": [
    {
     "name": "stdout",
     "output_type": "stream",
     "text": [
      "Wall time: 10.5 s\n"
     ]
    }
   ],
   "source": [
    "%%time\n",
    "sa = mlrose_hiive.SARunner(problem, experiment_name=\"SA_Exp\", \n",
    "                           iteration_list=[100000],\n",
    "                           temperature_list=[1, 10, 50, 100, 250, 500, 1000, 2500, 5000],\n",
    "                           decay_list=[mlrose_hiive.ExpDecay,\n",
    "                                       mlrose_hiive.GeomDecay],\n",
    "                           seed=44, max_attempts=100)\n",
    "\n",
    "sa_run_stats, sa_run_curves = sa.run()   "
   ]
  },
  {
   "cell_type": "code",
   "execution_count": 10,
   "id": "40110d3e",
   "metadata": {},
   "outputs": [
    {
     "name": "stdout",
     "output_type": "stream",
     "text": [
      "69.16666666666667 75.0\n",
      "0.5655120444444424\n"
     ]
    }
   ],
   "source": [
    "last_iters = sa_run_stats[sa_run_stats.Iteration != 0].reset_index()\n",
    "print(last_iters.Fitness.mean(), last_iters.Fitness.max())\n",
    "print(last_iters.Time.mean())"
   ]
  },
  {
   "cell_type": "code",
   "execution_count": 6,
   "id": "0d53a75b",
   "metadata": {},
   "outputs": [
    {
     "name": "stdout",
     "output_type": "stream",
     "text": [
      "Wall time: 31.2 s\n"
     ]
    }
   ],
   "source": [
    "%%time\n",
    "ga = mlrose_hiive.GARunner(problem=problem,\n",
    "                          experiment_name=\"GA_Exp\",\n",
    "                          seed=44,\n",
    "                          iteration_list=[100000],\n",
    "                          max_attempts=100,\n",
    "                          population_sizes=[500, 1000],\n",
    "                          mutation_rates=[0.1, 0.25, 0.5])\n",
    "ga_run_stats, ga_run_curves = ga.run()   "
   ]
  },
  {
   "cell_type": "code",
   "execution_count": 11,
   "id": "cd27caf1",
   "metadata": {},
   "outputs": [
    {
     "name": "stdout",
     "output_type": "stream",
     "text": [
      "Max and mean\n",
      "75.0 75.0 5.197842433333332\n",
      "Mutation Rate\n",
      "0.10    75.0\n",
      "0.25    75.0\n",
      "0.50    75.0\n",
      "Name: Fitness, dtype: float64\n",
      "Population Size\n",
      "500     75.0\n",
      "1000    75.0\n",
      "Name: Fitness, dtype: float64\n",
      "Population Size\n",
      "500     3.291221\n",
      "1000    7.104464\n",
      "Name: Time, dtype: float64\n"
     ]
    }
   ],
   "source": [
    "last_iters = ga_run_stats[ga_run_stats.Iteration != 0].reset_index()\n",
    "print(\"Max and mean\")\n",
    "print(last_iters.Fitness.max(), last_iters.Fitness.mean(), last_iters.Time.mean())\n",
    "print(last_iters.groupby(\"Mutation Rate\").Fitness.mean())\n",
    "print(last_iters.groupby(\"Population Size\").Fitness.mean())\n",
    "print(last_iters.groupby(\"Population Size\").Time.mean())"
   ]
  },
  {
   "cell_type": "code",
   "execution_count": 5,
   "id": "5ce6c7b6",
   "metadata": {},
   "outputs": [
    {
     "name": "stdout",
     "output_type": "stream",
     "text": [
      "28.825287580490112\n"
     ]
    }
   ],
   "source": [
    "start = time()\n",
    "mmc = mlrose_hiive.MIMICRunner(problem=problem,\n",
    "                          experiment_name=\"MMC_Exp\",\n",
    "                          seed=44,\n",
    "                          iteration_list=[100000],\n",
    "                          max_attempts=100,\n",
    "                          population_sizes=[500,1000],\n",
    "                          keep_percent_list=[0.1, 0.25, 0.5],\n",
    "                          use_fast_mimic=True)\n",
    "\n",
    "# the two data frames will contain the results\n",
    "mmc_run_stats, mmc_run_curves = mmc.run()\n",
    "end = time()\n",
    "print(end-start)"
   ]
  },
  {
   "cell_type": "code",
   "execution_count": 12,
   "id": "ebcb5708",
   "metadata": {},
   "outputs": [
    {
     "name": "stdout",
     "output_type": "stream",
     "text": [
      "Max and mean\n",
      "75.0 66.5 4.803325583333333\n",
      "Keep Percent\n",
      "0.10    69.0\n",
      "0.25    72.0\n",
      "0.50    58.5\n",
      "Name: Fitness, dtype: float64\n",
      "Population Size\n",
      "500     64.0\n",
      "1000    69.0\n",
      "Name: Fitness, dtype: float64\n",
      "Population Size\n",
      "500     2.989958\n",
      "1000    6.616693\n",
      "Name: Time, dtype: float64\n"
     ]
    }
   ],
   "source": [
    "last_iters = mmc_run_stats[mmc_run_stats.Iteration != 0].reset_index()\n",
    "print(\"Max and mean\")\n",
    "print(last_iters.Fitness.max(), last_iters.Fitness.mean(), last_iters.Time.mean())\n",
    "print(last_iters.groupby(\"Keep Percent\").Fitness.mean())\n",
    "print(last_iters.groupby(\"Population Size\").Fitness.mean())\n",
    "print(last_iters.groupby(\"Population Size\").Time.mean())"
   ]
  },
  {
   "cell_type": "code",
   "execution_count": null,
   "id": "3cc1da90",
   "metadata": {},
   "outputs": [],
   "source": []
  }
 ],
 "metadata": {
  "kernelspec": {
   "display_name": "Python 3 (ipykernel)",
   "language": "python",
   "name": "python3"
  },
  "language_info": {
   "codemirror_mode": {
    "name": "ipython",
    "version": 3
   },
   "file_extension": ".py",
   "mimetype": "text/x-python",
   "name": "python",
   "nbconvert_exporter": "python",
   "pygments_lexer": "ipython3",
   "version": "3.8.12"
  }
 },
 "nbformat": 4,
 "nbformat_minor": 5
}
